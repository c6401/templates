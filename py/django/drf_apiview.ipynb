{
  "cells": [
    {
      "cell_type": "code",
      "source": [
        "import sys\n",
        "import django\n",
        "from django.conf import settings\n",
        "from django.db import connection, models\n",
        "\n",
        "urlpatterns = []\n",
        "\n",
        "settings.configure(\n",
        "    DATABASES={'default': {'ENGINE': 'django.db.backends.sqlite3', 'NAME': ':memory:'}},\n",
        "    INSTALLED_APPS=['django.contrib.contenttypes', 'django.contrib.auth', 'rest_framework',],\n",
        "    ROOT_URLCONF=sys.modules[__name__],\n",
        "    REST_FRAMEWORK={'DEFAULT_FILTER_BACKENDS': ['django_filters.rest_framework.DjangoFilterBackend']},\n",
        "    DEBUG=True,\n",
        "    ALLOWED_HOSTS=['*'],\n",
        ")\n",
        "django.setup()"
      ],
      "outputs": [],
      "execution_count": null,
      "metadata": {
        "collapsed": false,
        "outputHidden": false,
        "inputHidden": false
      }
    },
    {
      "cell_type": "code",
      "source": [
        "from rest_framework import views\n",
        "from rest_framework import serializers\n",
        "from rest_framework.response import Response\n",
        "from rest_framework import status\n",
        "\n",
        "from rest_framework.routers import DefaultRouter\n",
        "from django.urls import path, include\n",
        "from django.test import Client\n",
        "from IPython.display import HTML\n",
        "\nc = Client()"
      ],
      "outputs": [],
      "execution_count": null,
      "metadata": {
        "collapsed": false,
        "outputHidden": false,
        "inputHidden": false
      }
    },
    {
      "cell_type": "code",
      "source": [
        "class MySerializer(serializers.Serializer):\n",
        "    id = serializers.IntegerField(required=True)\n",
        "\n",
        "    \n",
        "class MyView(views.APIView):\n",
        "    serializer_class = MySerializer()\n",
        "    \n",
        "    def get(self, request, format=None):\n",
        "        serializer = MySerializer(data=request.query_params)\n",
        "        if not serializer.is_valid():\n",
        "            return Response(data=serializer.errors, status=status.HTTP_400_BAD_REQUEST)\n",
        "\n",
        "        data = serializer.validated_data\n",
        "        return Response({'id': data.get('id')})"
      ],
      "outputs": [],
      "execution_count": null,
      "metadata": {
        "collapsed": false,
        "outputHidden": false,
        "inputHidden": false
      }
    },
    {
      "cell_type": "code",
      "source": [
        "mypath = path('', MyView.as_view())\n",
        "if urlpatterns:\n",
        "    urlpatterns[0] = mypath\n",
        "else:\n",
        "    urlpatterns.append(mypath)"
      ],
      "outputs": [],
      "execution_count": null,
      "metadata": {
        "collapsed": false,
        "outputHidden": false,
        "inputHidden": false
      }
    },
    {
      "cell_type": "code",
      "source": [
        "HTML(c.get('/?id=1').content.decode('utf8'))"
      ],
      "outputs": [],
      "execution_count": null,
      "metadata": {
        "collapsed": false,
        "outputHidden": false,
        "inputHidden": false
      }
    },
    {
      "cell_type": "code",
      "source": [],
      "outputs": [],
      "execution_count": null,
      "metadata": {
        "collapsed": false,
        "outputHidden": false,
        "inputHidden": false
      }
    }
  ],
  "metadata": {
    "kernel_info": {
      "name": "python3"
    },
    "language_info": {
      "name": "python",
      "version": "3.6.7",
      "mimetype": "text/x-python",
      "codemirror_mode": {
        "name": "ipython",
        "version": 3
      },
      "pygments_lexer": "ipython3",
      "nbconvert_exporter": "python",
      "file_extension": ".py"
    },
    "kernelspec": {
      "name": "python3",
      "language": "python",
      "display_name": "Python 3"
    },
    "nteract": {
      "version": "0.12.3"
    }
  },
  "nbformat": 4,
  "nbformat_minor": 4
}