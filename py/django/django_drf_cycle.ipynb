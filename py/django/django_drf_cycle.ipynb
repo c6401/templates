{
  "cells": [
    {
      "cell_type": "code",
      "source": [
        "!docker stop minimal-django-postgres\n",
        "!docker rm minimal-django-postgres"
      ],
      "outputs": [],
      "execution_count": null,
      "metadata": {
        "collapsed": false,
        "outputHidden": false,
        "inputHidden": false
      }
    },
    {
      "cell_type": "code",
      "source": [
        "!docker run -e POSTGRES_PASSWORD=postgres -d -p 5432:5432 --name minimal-django-postgres postgres"
      ],
      "outputs": [],
      "execution_count": null,
      "metadata": {
        "collapsed": false,
        "outputHidden": false,
        "inputHidden": false
      }
    },
    {
      "cell_type": "code",
      "source": [
        "!mkdir -p /tmp/dj_full_cycle/tmp\n",
        "%cd /tmp/dj_full_cycle"
      ],
      "outputs": [],
      "execution_count": null,
      "metadata": {
        "collapsed": false,
        "outputHidden": false,
        "inputHidden": false
      }
    },
    {
      "cell_type": "code",
      "source": [
        "import sys\n",
        "import django\n",
        "from django.conf import settings\n",
        "from django.db import connection, models\n",
        "\n",
        "urlpatterns = []\n",
        "\n",
        "settings.configure(\n",
        "#     DATABASES={'default': {'ENGINE': 'django.db.backends.sqlite3', 'NAME': ':memory:'}},\n",
        "    DATABASES={'default': {'ENGINE': 'django.db.backends.postgresql', 'USER': 'postgres', 'NAME': 'postgres', 'PASSWORD': 'postgres', 'HOST': '127.0.0.1', 'PORT': '5432'}},\n",
        "    INSTALLED_APPS=['django.contrib.contenttypes', 'django.contrib.auth', 'rest_framework', 'django_filters', 'tmp'],\n",
        "    ROOT_URLCONF=sys.modules[__name__],\n",
        "    REST_FRAMEWORK={'DEFAULT_FILTER_BACKENDS': ['django_filters.rest_framework.DjangoFilterBackend']},\n",
        "    DEBUG=True,\n",
        "    ALLOWED_HOSTS=['*'],\n",
        ")\n",
        "django.setup()"
      ],
      "outputs": [],
      "execution_count": null,
      "metadata": {
        "collapsed": false,
        "outputHidden": false,
        "inputHidden": false
      }
    },
    {
      "cell_type": "code",
      "source": [
        "# # to change model, (and then create migrations again)\n",
        "# from django.apps import apps\n",
        "# del apps.all_models['tmp']['mymodel']\n",
        "\n",
        "class MyModel(models.Model):\n",
        "    name = models.CharField(max_length=256)\n",
        "\n",
        "    class Meta:\n",
        "        app_label = 'tmp'"
      ],
      "outputs": [],
      "execution_count": null,
      "metadata": {
        "collapsed": false,
        "outputHidden": false,
        "inputHidden": false
      }
    },
    {
      "cell_type": "code",
      "source": [
        "# !rm -rf ./tmp/migrations/\n",
        "# # to create models through migrations:\n",
        "# from django.core import management\n",
        "# management.call_command('makemigrations', 'tmp')\n",
        "# management.call_command('migrate', 'tmp')\n",
        "# # to create tables using schema_editor\n",
        "with connection.schema_editor() as schema_editor:\n",
        "    schema_editor.create_model(MyModel)"
      ],
      "outputs": [],
      "execution_count": null,
      "metadata": {
        "collapsed": false,
        "outputHidden": false,
        "inputHidden": false
      }
    },
    {
      "cell_type": "markdown",
      "source": [
        "# defining views"
      ],
      "metadata": {}
    },
    {
      "cell_type": "code",
      "source": [
        "import re\n",
        "from rest_framework import viewsets\n",
        "from rest_framework import serializers\n",
        "import django_filters"
      ],
      "outputs": [],
      "execution_count": null,
      "metadata": {
        "collapsed": false,
        "outputHidden": false,
        "inputHidden": false
      }
    },
    {
      "cell_type": "code",
      "source": [
        "class MyModelFilter(django_filters.FilterSet):\n",
        "    class Meta:\n",
        "        model = MyModel\n",
        "        fields = '__all__'\n",
        "        \n",
        "class MyModelSerializer(serializers.ModelSerializer):\n",
        "    class Meta:\n",
        "        model = MyModel\n",
        "        fields = '__all__'\n",
        "\n",
        "class MyModelViewSet(viewsets.ModelViewSet):\n",
        "    queryset = MyModel.objects.all()\n",
        "    serializer_class = MyModelSerializer\n",
        "    filter_class = MyModelFilter"
      ],
      "outputs": [],
      "execution_count": null,
      "metadata": {
        "collapsed": false,
        "outputHidden": false,
        "inputHidden": false
      }
    },
    {
      "cell_type": "markdown",
      "source": [
        "# urls"
      ],
      "metadata": {}
    },
    {
      "cell_type": "code",
      "source": [
        "from rest_framework.routers import DefaultRouter\n",
        "from django.urls import path, include\n",
        "from django.test import Client\n",
        "from IPython.display import HTML\n",
        "\nc = Client()"
      ],
      "outputs": [],
      "execution_count": null,
      "metadata": {
        "collapsed": false,
        "outputHidden": false,
        "inputHidden": false
      }
    },
    {
      "cell_type": "code",
      "source": [
        "router = DefaultRouter()\n",
        "router.register('mymodel', MyModelViewSet)\n",
        "mypath = path('', include(router.urls))\n",
        "if urlpatterns:\n",
        "    urlpatterns[0] = mypath\n",
        "else:\n",
        "    urlpatterns.append(mypath)"
      ],
      "outputs": [],
      "execution_count": null,
      "metadata": {
        "collapsed": false,
        "outputHidden": false,
        "inputHidden": false
      }
    },
    {
      "cell_type": "code",
      "source": [
        "HTML(c.get('/mymodel/?name=xxx').content.decode('utf8'))"
      ],
      "outputs": [],
      "execution_count": null,
      "metadata": {
        "collapsed": false,
        "outputHidden": false,
        "inputHidden": false
      }
    },
    {
      "cell_type": "code",
      "source": [
        "MyModel.objects.create(name='test')"
      ],
      "outputs": [],
      "execution_count": null,
      "metadata": {
        "collapsed": false,
        "outputHidden": false,
        "inputHidden": false
      }
    },
    {
      "cell_type": "code",
      "source": [],
      "outputs": [],
      "execution_count": null,
      "metadata": {
        "collapsed": false,
        "outputHidden": false,
        "inputHidden": false
      }
    }
  ],
  "metadata": {
    "kernel_info": {
      "name": "python3"
    },
    "language_info": {
      "name": "python",
      "version": "3.6.7",
      "mimetype": "text/x-python",
      "codemirror_mode": {
        "name": "ipython",
        "version": 3
      },
      "pygments_lexer": "ipython3",
      "nbconvert_exporter": "python",
      "file_extension": ".py"
    },
    "kernelspec": {
      "name": "python3",
      "language": "python",
      "display_name": "Python 3"
    },
    "nteract": {
      "version": "0.12.3"
    }
  },
  "nbformat": 4,
  "nbformat_minor": 4
}