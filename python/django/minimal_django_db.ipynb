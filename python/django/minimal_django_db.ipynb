{
  "cells": [
    {
      "cell_type": "code",
      "source": [
        "import django\n",
        "from django.conf import settings\n",
        "from django.db import connection, models\n",
        "\n",
        "settings.configure(\n",
        "    DATABASES = {\n",
        "        'default': {\n",
        "            'ENGINE': 'django.db.backends.sqlite3',\n",
        "            'NAME': ':memory:',\n",
        "        }\n",
        "    }\n",
        ")\n",
        "django.setup()"
      ],
      "outputs": [],
      "execution_count": null,
      "metadata": {
        "collapsed": false,
        "outputHidden": false,
        "inputHidden": false
      }
    },
    {
      "cell_type": "code",
      "source": [
        "class MyModel(models.Model):\n",
        "    name = models.CharField(max_length=255)\n",
        "    \n",
        "    class Meta:\n",
        "        app_label = 'test'"
      ],
      "outputs": [],
      "execution_count": null,
      "metadata": {
        "collapsed": false,
        "outputHidden": false,
        "inputHidden": false
      }
    },
    {
      "cell_type": "code",
      "source": [
        "with connection.schema_editor() as schema_editor:\n",
        "    schema_editor.create_model(MyModel)"
      ],
      "outputs": [],
      "execution_count": null,
      "metadata": {
        "collapsed": false,
        "outputHidden": false,
        "inputHidden": false
      }
    },
    {
      "cell_type": "code",
      "source": [],
      "outputs": [],
      "execution_count": null,
      "metadata": {
        "collapsed": false,
        "outputHidden": false,
        "inputHidden": false
      }
    }
  ],
  "metadata": {
    "kernel_info": {
      "name": "python3"
    },
    "language_info": {
      "name": "python",
      "version": "3.6.6",
      "mimetype": "text/x-python",
      "codemirror_mode": {
        "name": "ipython",
        "version": 3
      },
      "pygments_lexer": "ipython3",
      "nbconvert_exporter": "python",
      "file_extension": ".py"
    },
    "kernelspec": {
      "name": "python3",
      "language": "python",
      "display_name": "Python 3"
    },
    "nteract": {
      "version": "0.11.9"
    }
  },
  "nbformat": 4,
  "nbformat_minor": 4
}