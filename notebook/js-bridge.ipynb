{
  "cells": [
    {
      "cell_type": "code",
      "source": [
        "import json\n",
        "from aiohttp import web\n",
        "app = web.Application()\n",
        "routes = web.RouteTableDef()\n",
        "\n",
        "@routes.get('/init')\n",
        "async def init_handler(r):\n",
        "    return web.Response(text='''\n",
        "        function getProxy(expr='') {\n",
        "          return new Proxy(function() {}, {\n",
        "            get(obj, path) {\n",
        "              if (path !== 'then') {\n",
        "                  return getProxy(expr ? `${expr}.${path}`: path);\n",
        "              }\n",
        "              async function request() {\n",
        "                return await(await fetch('http://localhost:8080/eval', {\n",
        "                  method: 'POST', body: expr,\n",
        "                })).json();\n",
        "              }\n",
        "              let promise = request();\n",
        "              return promise.then.bind(promise); \n",
        "            },\n",
        "            apply(target, thisArg, args) {\n",
        "              var kwargs = {};\n",
        "              if (Object.prototype.toString.call(args[args.length - 1]) === '[object Object]') {\n",
        "                var kwargs = args.pop();\n",
        "              }\n",
        "              expr = `${expr}(*${JSON.stringify(args)}, **${JSON.stringify(kwargs)})`;\n",
        "              return getProxy(expr);\n",
        "            },\n",
        "          });\n",
        "        }\n",
        "        window.py = getProxy()\n",
        "    ''')\n",
        "\n",
        "@routes.post('/eval')\n",
        "async def eval_handler(r):\n",
        "    code = await r.text()\n",
        "    result = json.dumps(eval(code, globals()))\n",
        "    return web.Response(text=result)\n",
        "\n",
        "app.add_routes(routes)\n",
        "runner = web.AppRunner(app)\n",
        "await runner.setup()\n",
        "site = web.TCPSite(runner)\n",
        "await site.start()"
      ],
      "outputs": [],
      "execution_count": null,
      "metadata": {
        "collapsed": false,
        "outputHidden": false,
        "inputHidden": false
      }
    },
    {
      "cell_type": "code",
      "source": [
        "%%html\n",
        "<script src=\"http://localhost:8080/init\"></script>\n",
        "<script src=\"https://cdn.jsdelivr.net/npm/vue@2.5.16/dist/vue.js\">"
      ],
      "outputs": [],
      "execution_count": null,
      "metadata": {
        "collapsed": false,
        "outputHidden": false,
        "inputHidden": false
      }
    },
    {
      "cell_type": "code",
      "source": [
        "%%html\n",
        "</script>\n",
        "<div id='my-app'>\n",
        "</div>\n",
        "<script>\n",
        "var app = new Vue({ el: '#my-app' })\n",
        "</script>"
      ],
      "outputs": [],
      "execution_count": null,
      "metadata": {
        "collapsed": false,
        "outputHidden": false,
        "inputHidden": false
      }
    },
    {
      "cell_type": "code",
      "source": [],
      "outputs": [],
      "execution_count": null,
      "metadata": {
        "collapsed": false,
        "outputHidden": false,
        "inputHidden": false
      }
    }
  ],
  "metadata": {
    "kernel_info": {
      "name": "python3"
    },
    "language_info": {
      "name": "python",
      "version": "3.7.3",
      "mimetype": "text/x-python",
      "codemirror_mode": {
        "name": "ipython",
        "version": 3
      },
      "pygments_lexer": "ipython3",
      "nbconvert_exporter": "python",
      "file_extension": ".py"
    },
    "kernelspec": {
      "name": "python3",
      "language": "python",
      "display_name": "Python 3"
    },
    "nteract": {
      "version": "0.15.0"
    }
  },
  "nbformat": 4,
  "nbformat_minor": 0
}